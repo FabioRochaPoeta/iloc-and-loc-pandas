{
 "cells": [
  {
   "attachments": {},
   "cell_type": "markdown",
   "metadata": {},
   "source": [
    "- Crie um notebook apresentando iloc e loc.\n",
    "- Utilize qualquer dataframe de sua preferencia.\n",
    "- Apresente as principais diferenças\n",
    "- Demontre casos onde o iloc não funcionaria e o loc sim.\n",
    "- Explore o DataFrame e apresente as principais características\n",
    "- Seu notebook precisa se alternar entre código e markdown. \n",
    "- Conte uma história."
   ]
  },
  {
   "cell_type": "markdown",
   "metadata": {},
   "source": []
  },
  {
   "cell_type": "markdown",
   "metadata": {},
   "source": []
  }
 ],
 "metadata": {
  "kernelspec": {
   "display_name": "Python 3",
   "language": "python",
   "name": "python3"
  },
  "language_info": {
   "name": "python",
   "version": "3.10.10 (tags/v3.10.10:aad5f6a, Feb  7 2023, 17:20:36) [MSC v.1929 64 bit (AMD64)]"
  },
  "orig_nbformat": 4,
  "vscode": {
   "interpreter": {
    "hash": "d143691b3b796dfa840125b678cbcfa24de4daa9df447a44f4f360662660234b"
   }
  }
 },
 "nbformat": 4,
 "nbformat_minor": 2
}
